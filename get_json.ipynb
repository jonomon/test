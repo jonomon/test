{
 "cells": [
  {
   "cell_type": "code",
   "execution_count": 1,
   "metadata": {},
   "outputs": [],
   "source": [
    "import json\n",
    "\n",
    "import numpy as np\n",
    "import ipywidgets as widgets\n",
    "from ipywidgets import Button, HBox, VBox, Layout"
   ]
  },
  {
   "cell_type": "markdown",
   "metadata": {},
   "source": [
    "# Parameters to change"
   ]
  },
  {
   "cell_type": "code",
   "execution_count": 2,
   "metadata": {},
   "outputs": [],
   "source": [
    "rows = 7\n",
    "cols = 7\n",
    "levelInt = 4\n",
    "colours = [\"Black\", \"White\"] # available colours"
   ]
  },
  {
   "cell_type": "markdown",
   "metadata": {},
   "source": [
    "# Read json file"
   ]
  },
  {
   "cell_type": "code",
   "execution_count": 3,
   "metadata": {},
   "outputs": [],
   "source": [
    "with open(\"GameDesign.json\") as f:\n",
    "    game_design = json.load(f)"
   ]
  },
  {
   "cell_type": "markdown",
   "metadata": {},
   "source": [
    "# Define the board here"
   ]
  },
  {
   "cell_type": "code",
   "execution_count": 4,
   "metadata": {},
   "outputs": [],
   "source": [
    "arr = np.zeros(shape=(rows, cols))\n",
    "if len(game_design) > levelInt-1:\n",
    "    assert game_design[levelInt-1][\"levelInt\"] == levelInt\n",
    "    for item in game_design[levelInt-1][\"items\"]:\n",
    "        row = rows - item[\"row\"]\n",
    "        col = item[\"col\"]\n",
    "        state = item[\"state\"]\n",
    "        index = colours.index(state) + 1\n",
    "        arr[row, col] = index"
   ]
  },
  {
   "cell_type": "markdown",
   "metadata": {},
   "source": [
    "# Draw UI"
   ]
  },
  {
   "cell_type": "code",
   "execution_count": 5,
   "metadata": {},
   "outputs": [
    {
     "data": {
      "application/vnd.jupyter.widget-view+json": {
       "model_id": "d4075a8aa7aa45478e6d59a98a9967a5",
       "version_major": 2,
       "version_minor": 0
      },
      "text/plain": [
       "VBox(children=(HBox(children=(Button(layout=Layout(height='40px', width='40px'), style=ButtonStyle(button_colo…"
      ]
     },
     "metadata": {},
     "output_type": "display_data"
    }
   ],
   "source": [
    "v_boxes = []\n",
    "\n",
    "for i in range(rows):\n",
    "    h_boxes = []\n",
    "    for j in range(cols):\n",
    "        button = widgets.Button(description='', \n",
    "                                layout=Layout(width='40px', height='40px'))\n",
    "        if arr[i, j] == 0:\n",
    "            button.style.button_color = 'lightgray'\n",
    "        elif arr[i, j] == 1:\n",
    "            button.style.button_color = 'black'\n",
    "        elif arr[i, j] == 2:\n",
    "            button.style.button_color = 'white'\n",
    "\n",
    "        button.row = i\n",
    "        button.col = j\n",
    "        def on_button_clicked(button):\n",
    "            if arr[button.row, button.col] == 0:\n",
    "                arr[button.row, button.col] = 1\n",
    "                button.style.button_color = 'black'\n",
    "            elif arr[button.row, button.col] == 1:\n",
    "                arr[button.row, button.col] = 2\n",
    "                button.style.button_color = 'white'\n",
    "            elif arr[button.row, button.col] == 2:\n",
    "                arr[button.row, button.col] = 0\n",
    "                button.style.button_color = 'lightgray'\n",
    "\n",
    "        button.on_click(on_button_clicked)\n",
    "        h_boxes.append(button)\n",
    "    v_boxes.append(HBox(h_boxes))\n",
    "VBox(v_boxes)"
   ]
  },
  {
   "cell_type": "markdown",
   "metadata": {},
   "source": [
    "# Run next cell to get JSON"
   ]
  },
  {
   "cell_type": "code",
   "execution_count": 7,
   "metadata": {},
   "outputs": [
    {
     "name": "stdout",
     "output_type": "stream",
     "text": [
      "{\n",
      "  \"levelInt\": 4,\n",
      "  \"items\": [\n",
      "    {\n",
      "      \"state\": \"Black\",\n",
      "      \"row\": 4,\n",
      "      \"col\": 3\n",
      "    },\n",
      "    {\n",
      "      \"state\": \"White\",\n",
      "      \"row\": 3,\n",
      "      \"col\": 3\n",
      "    },\n",
      "    {\n",
      "      \"state\": \"Black\",\n",
      "      \"row\": 3,\n",
      "      \"col\": 4\n",
      "    },\n",
      "    {\n",
      "      \"state\": \"Black\",\n",
      "      \"row\": 2,\n",
      "      \"col\": 3\n",
      "    }\n",
      "  ]\n",
      "}\n"
     ]
    }
   ],
   "source": [
    "items = []\n",
    "for i in range(rows):\n",
    "    for j in range(cols):\n",
    "        arr_val = arr[i, j]\n",
    "        if arr_val > 0:\n",
    "            item_dict = {\"state\": colours[int(arr_val)-1],\n",
    "                        \"row\": rows - i - 1,\n",
    "                        \"col\": j}\n",
    "            items.append(item_dict)\n",
    "\n",
    "level = {\"levelInt\": levelInt, \"items\": items}\n",
    "print(json.dumps(level, indent=2))"
   ]
  },
  {
   "cell_type": "code",
   "execution_count": 10,
   "metadata": {},
   "outputs": [],
   "source": [
    "with open(\"GameDesign.json\", \"r\") as f:\n",
    "    game_design = json.load(f)\n",
    "if len(game_design) > levelInt-1:\n",
    "    game_design[levelInt-1] = level\n",
    "else:\n",
    "    game_design.append(level)\n",
    "with open(\"GameDesign.json\", \"w\") as f:\n",
    "    game_design = json.dump(game_design, f, indent=2)"
   ]
  },
  {
   "cell_type": "code",
   "execution_count": null,
   "metadata": {},
   "outputs": [],
   "source": []
  }
 ],
 "metadata": {
  "kernelspec": {
   "display_name": "Python 3",
   "language": "python",
   "name": "python3"
  },
  "language_info": {
   "codemirror_mode": {
    "name": "ipython",
    "version": 3
   },
   "file_extension": ".py",
   "mimetype": "text/x-python",
   "name": "python",
   "nbconvert_exporter": "python",
   "pygments_lexer": "ipython3",
   "version": "3.7.6"
  }
 },
 "nbformat": 4,
 "nbformat_minor": 4
}
